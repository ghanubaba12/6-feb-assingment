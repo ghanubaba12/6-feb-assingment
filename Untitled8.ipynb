{
 "cells": [
  {
   "cell_type": "code",
   "execution_count": null,
   "id": "12bcc8ad-f66b-4cd4-8e2a-598c6b718985",
   "metadata": {},
   "outputs": [],
   "source": [
    "\"\"\"Q1. Create a function which will take a list as an argument and return the product of all the numbers\n",
    "after creating a flat list.\n",
    "Use the below-given list as an argument for your function.\"\"\""
   ]
  },
  {
   "cell_type": "code",
   "execution_count": 1,
   "id": "4275d2a5-db7f-43e9-9c0e-2172c6f49af5",
   "metadata": {},
   "outputs": [
    {
     "name": "stdout",
     "output_type": "stream",
     "text": [
      "720\n"
     ]
    }
   ],
   "source": [
    "def flatten_and_product(nested_list):\n",
    "    flat_list = [item for sublist in nested_list for item in sublist]\n",
    "    product = 1\n",
    "    for item in flat_list:\n",
    "        product *= item\n",
    "    return product\n",
    "\n",
    "nested_list = [[1, 2, 3], [4, 5], [6]]\n",
    "result = flatten_and_product(nested_list)\n",
    "print(result)\n",
    "# Output: 720\n"
   ]
  },
  {
   "cell_type": "code",
   "execution_count": null,
   "id": "2e540885-bcfb-4e12-9fd8-9186eb9a3760",
   "metadata": {},
   "outputs": [],
   "source": [
    "In this function, the flatten_and_product() function takes a nested list as an argument and uses a list comprehension to create a flat list. Then, it calculates the product of all the numbers in the flat list by iterating over the list and multiplying each item with the running product. Finally, it returns the result."
   ]
  },
  {
   "cell_type": "code",
   "execution_count": null,
   "id": "aecbfc65-0e97-4fef-ab7b-fe13c1614b8a",
   "metadata": {},
   "outputs": [],
   "source": []
  },
  {
   "cell_type": "code",
   "execution_count": null,
   "id": "27bac570-0307-4922-acec-345f5ad8b8c9",
   "metadata": {},
   "outputs": [],
   "source": []
  },
  {
   "cell_type": "code",
   "execution_count": null,
   "id": "54ee64be-de9e-4df0-8542-2c1385747cce",
   "metadata": {},
   "outputs": [],
   "source": []
  },
  {
   "cell_type": "code",
   "execution_count": null,
   "id": "93c40e06-b873-497c-bdaf-51c278d3124f",
   "metadata": {},
   "outputs": [],
   "source": []
  },
  {
   "cell_type": "code",
   "execution_count": null,
   "id": "59736743-af4d-4d5e-9fd6-33432d951702",
   "metadata": {},
   "outputs": [],
   "source": []
  },
  {
   "cell_type": "code",
   "execution_count": null,
   "id": "f0dfca10-9d08-4522-8fb1-30c244bb4c15",
   "metadata": {},
   "outputs": [],
   "source": []
  },
  {
   "cell_type": "code",
   "execution_count": null,
   "id": "e094a148-6cc4-4470-a062-881db20f1cdd",
   "metadata": {},
   "outputs": [],
   "source": []
  }
 ],
 "metadata": {
  "kernelspec": {
   "display_name": "Python 3 (ipykernel)",
   "language": "python",
   "name": "python3"
  },
  "language_info": {
   "codemirror_mode": {
    "name": "ipython",
    "version": 3
   },
   "file_extension": ".py",
   "mimetype": "text/x-python",
   "name": "python",
   "nbconvert_exporter": "python",
   "pygments_lexer": "ipython3",
   "version": "3.10.8"
  }
 },
 "nbformat": 4,
 "nbformat_minor": 5
}
